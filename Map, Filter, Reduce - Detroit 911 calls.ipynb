{
 "cells": [
  {
   "cell_type": "markdown",
   "id": "d6d00e01",
   "metadata": {},
   "source": [
    "# Map, Filter, Reduce - Detroit 911 Calls exercise"
   ]
  },
  {
   "cell_type": "markdown",
   "id": "1d337dfc",
   "metadata": {},
   "source": [
    "## Part 1: Model the Detroit Police Population"
   ]
  },
  {
   "cell_type": "code",
   "execution_count": 1,
   "id": "1e0b6a36",
   "metadata": {
    "scrolled": false
   },
   "outputs": [
    {
     "name": "stdout",
     "output_type": "stream",
     "text": [
      "[{'X': '-83.0338246217566', 'Y': '42.355185523644', 'incident_id': '202131305618', 'agency': 'DPD ', 'incident_address': 'Scott St & Chene St', 'zip_code': '48207', 'priority': '4', 'callcode': '811040', 'calldescription': 'AUTO X REPORT', 'category': 'ACCREPT ', 'call_timestamp': '2021/11/10 04:28:32+00', 'precinct_sca': '76B ', 'respondingunit': '', 'officerinitiated': 'Yes', 'intaketime': '0', 'dispatchtime': '0', 'traveltime': '0', 'totalresponsetime': '0', 'time_on_scene': '39.6', 'totaltime': '39.6', 'neighborhood': 'Eastern Market', 'block_id': '261635188002036', 'council_district': '5.0', 'longitude': '-83.0338246217566', 'latitude': '42.355185523644', 'ObjectId': '1'}, {'X': '-83.2200838955991', 'Y': '42.4155411581047', 'incident_id': '202131400264', 'agency': 'DPD ', 'incident_address': 'W McNichols Rd & Ashton Ave', 'zip_code': '48219', 'priority': '3', 'callcode': 'SA    ', 'calldescription': 'SPECIAL ATTENTION', 'category': 'SPCL ATT', 'call_timestamp': '2021/11/10 06:26:22+00', 'precinct_sca': '87D ', 'respondingunit': ' ', 'officerinitiated': 'Yes', 'intaketime': '0', 'dispatchtime': '0', 'traveltime': '0', 'totalresponsetime': '0', 'time_on_scene': '0.6', 'totaltime': '0.7', 'neighborhood': 'Evergreen-Outer Drive', 'block_id': '261635405001018', 'council_district': '1.0', 'longitude': '-83.2200838955991', 'latitude': '42.4155411581047', 'ObjectId': '2'}, {'X': '-83.0642910075754', 'Y': '42.3567931215742', 'incident_id': '202131400075', 'agency': 'DPD ', 'incident_address': 'W Warren Ave & Woodward Ave', 'zip_code': '48201', 'priority': '3', 'callcode': '827030', 'calldescription': 'BUS BOARDING', 'category': 'BUS BRD ', 'call_timestamp': '2021/11/10 05:20:20+00', 'precinct_sca': '39A ', 'respondingunit': ' ', 'officerinitiated': 'Yes', 'intaketime': '0', 'dispatchtime': '0', 'traveltime': '0', 'totalresponsetime': '0', 'time_on_scene': '4.3', 'totaltime': '4.3', 'neighborhood': 'Midtown', 'block_id': '261635202001000', 'council_district': '6.0', 'longitude': '-83.0642910075754', 'latitude': '42.3567931215742', 'ObjectId': '3'}, {'X': '-83.1686935061326', 'Y': '42.4095598332867', 'incident_id': '202131400955', 'agency': 'DPD ', 'incident_address': 'Manor St & Puritan St', 'zip_code': '48238', 'priority': '1', 'callcode': '396010', 'calldescription': 'CHILD /  ADULT ABUSE', 'category': 'ABUSE   ', 'call_timestamp': '2021/11/10 12:24:55+00', 'precinct_sca': '1210', 'respondingunit': '', 'officerinitiated': 'No', 'intaketime': '11.3', 'dispatchtime': '', 'traveltime': '', 'totalresponsetime': '', 'time_on_scene': '', 'totaltime': '', 'neighborhood': 'Bethune Community', 'block_id': '261635368002012', 'council_district': '2.0', 'longitude': '-83.1686935061326', 'latitude': '42.4095598332867', 'ObjectId': '4'}, {'X': '-83.0661665786264', 'Y': '42.3439660800247', 'incident_id': '202131400470', 'agency': 'DPD ', 'incident_address': 'Martin Luther King Jr Blvd & 4th St', 'zip_code': '48201', 'priority': '1', 'callcode': '396010', 'calldescription': 'CHILD /  ADULT ABUSE', 'category': 'ABUSE   ', 'call_timestamp': '2021/11/10 07:50:34+00', 'precinct_sca': '0311', 'respondingunit': ' ', 'officerinitiated': 'No', 'intaketime': '0', 'dispatchtime': '0.8', 'traveltime': '2.4', 'totalresponsetime': '3.4', 'time_on_scene': '51.3', 'totaltime': '54.7', 'neighborhood': 'Midtown', 'block_id': '261635225001003', 'council_district': '6.0', 'longitude': '-83.0661665786264', 'latitude': '42.3439660800247', 'ObjectId': '5'}]\n",
      "\n",
      "The average response time was: 1.086099273222401\n",
      "The average dispatch time was: 0.7177527298344487\n",
      "The average time to complete a call was: 34.56015891032917\n"
     ]
    }
   ],
   "source": [
    "import csv\n",
    "\n",
    "with open(\"911_Calls_for_Service_(Last_30_Days).csv\",\"rt\") as csvfile:\n",
    "    row_iter = csv.reader(csvfile)\n",
    "    column_headers = ['X', 'Y', 'incident_id', 'agency', 'incident_address', 'zip_code', 'priority', 'callcode', 'calldescription', 'category', 'call_timestamp', 'precinct_sca', 'respondingunit', 'officerinitiated', 'intaketime', 'dispatchtime', 'traveltime', 'totalresponsetime', 'time_on_scene', 'totaltime', 'neighborhood', 'block_id', 'council_district', 'longitude', 'latitude', 'ObjectId']\n",
    "    new_list = []\n",
    "    for i in row_iter:\n",
    "        d1 = dict()\n",
    "        for j in range(0,len(column_headers)):\n",
    "            d1[str(column_headers[j])] = str(i[j])\n",
    "        new_list.append(d1)\n",
    "\n",
    "    # Get rid of the column headers\n",
    "    new_list.pop(0)\n",
    "    \n",
    "    # For loop method:\n",
    "    \n",
    "    # for i in new_list:\n",
    "        # if (list(i.keys())[5] == '') or (list(i.keys())[20] == ''):\n",
    "            # new_list.pop(new_list.index(i))\n",
    "\n",
    "    # lambda and filter method:\n",
    "   \n",
    "    # filters by removing any rows that have zip_codes or neighborhoods with null values\n",
    "    \n",
    "    cleaned_list = list(filter((lambda i: (list(i.keys())[5] != '') or (list(i.keys())[20] != '')), new_list))\n",
    "\n",
    "# Shows the first five rows of the filtered list\n",
    "print(cleaned_list[0:5])\n",
    "\n",
    "# Calculate average total response time, average dispatch time, and the average total time using reduce and lambda functions\n",
    "from functools import reduce\n",
    "\n",
    "# Avg. response time\n",
    "total_response_time_values = [int(i['totalresponsetime']) for i in cleaned_list if i['totalresponsetime'].isnumeric()]\n",
    "\n",
    "sum_trt = reduce(lambda time1, time2: time1 + time2, total_response_time_values)\n",
    "print(f\"\\nThe average response time was: {sum_trt/len(total_response_time_values)}\")\n",
    "\n",
    "# Avg. dispatch time\n",
    "dispatch_time_values = [int(i['dispatchtime']) for i in cleaned_list if i['dispatchtime'].isnumeric()]\n",
    "\n",
    "sum_dt = reduce(lambda time1, time2: time1 + time2, dispatch_time_values)\n",
    "print(f\"The average dispatch time was: {sum_dt/len(dispatch_time_values)}\")\n",
    "\n",
    "# Avg. total time\n",
    "total_time_values = [int(i['totaltime']) for i in cleaned_list if i['totaltime'].isnumeric()]\n",
    "\n",
    "sum_tt = reduce(lambda time1, time2: time1 + time2, total_time_values)\n",
    "print(f\"The average time to complete a call was: {sum_tt/len(total_time_values)}\")"
   ]
  },
  {
   "cell_type": "markdown",
   "id": "6bcf54ea",
   "metadata": {},
   "source": [
    "## Part 2: Model the Neighborhood Samples\n",
    "\n",
    "Using lambda and Map functions, or lambda and Filter, divide the list of dictionaries into smaller lists of dictionaries separated by neighborhood. Using lambda and Reduce, find the average total response time for each neighborhood, the average dispatch time for each neighborhood, and the average total time for each neighborhood and store this into a list of dictionaries. Add a dictionary item to include the population data for all of Detroit in your combined list."
   ]
  },
  {
   "cell_type": "code",
   "execution_count": 2,
   "id": "bcb6ae3f",
   "metadata": {},
   "outputs": [],
   "source": [
    "unique_neighborhoods = []\n",
    "for i in cleaned_list:\n",
    "    if i[\"neighborhood\"] not in unique_neighborhoods:\n",
    "        unique_neighborhoods.append(i[\"neighborhood\"])\n",
    "\n",
    "# List of all unique neighborhoods\n",
    "unique_neighborhoods\n",
    "\n",
    "def unique_neighborhood_list(clean_list, uni_neigh_item):\n",
    "    neigh_list = []\n",
    "    for i in clean_list:\n",
    "        if i[\"neighborhood\"] == uni_neigh_item:\n",
    "            neigh_list.append(i)\n",
    "    return neigh_list       \n",
    "    \n",
    "neighborhoods_dict_list = list(map(lambda i: unique_neighborhood_list(cleaned_list, i), unique_neighborhoods))"
   ]
  },
  {
   "cell_type": "markdown",
   "id": "4064c7f3",
   "metadata": {},
   "source": [
    "The first two neighborhood lists can be seen by running the uncommented version of code below:"
   ]
  },
  {
   "cell_type": "code",
   "execution_count": 3,
   "id": "23508753",
   "metadata": {
    "scrolled": false
   },
   "outputs": [],
   "source": [
    "# neighborhoods_dict_list[0:2]"
   ]
  },
  {
   "cell_type": "code",
   "execution_count": 9,
   "id": "9cc3b910",
   "metadata": {},
   "outputs": [],
   "source": [
    "# Average time list of dictionaries\n",
    "\n",
    "def response_times():\n",
    "    for i in neighborhoods_dict_list:\n",
    "        return [int(j['totalresponsetime']) for j in i if j['totalresponsetime'].isnumeric()]\n",
    "    \n",
    "def dispatch_times():\n",
    "    for i in neighborhoods_dict_list:\n",
    "        return [int(j['dispatchtime']) for j in i if j['dispatchtime'].isnumeric()] \n",
    "\n",
    "\n",
    "def std(time_list):\n",
    "    if len(time_list) > 1:\n",
    "        sum_of_times = reduce(lambda time1, time2: time1 + time2, time_list)\n",
    "        return sum_of_times/len(time_list)\n",
    "    # If only one 911 call for a given neighborhood\n",
    "    elif len(time_list) == 1:\n",
    "        return time_list[0]\n",
    "\n",
    "response_times_list = []\n",
    "for i in neighborhoods_dict_list:\n",
    "    response_times_list.append([int(j['totalresponsetime']) for j in i if j['totalresponsetime'].isnumeric()])\n",
    "dispatch_times_list = []\n",
    "for i in neighborhoods_dict_list:\n",
    "    dispatch_times_list.append([int(j['dispatchtime']) for j in i if j['dispatchtime'].isnumeric()])\n",
    "\n",
    "total_times_list = []\n",
    "\n",
    "for i in neighborhoods_dict_list:\n",
    "    total_times_list.append([int(j['totaltime']) for j in i if j['totaltime'].isnumeric()])\n",
    "\n",
    "\n",
    "avg_response_times = list(map(lambda x: std(x), response_times_list))\n",
    "avg_dispatch_times = list(map(lambda x: std(x), dispatch_times_list))\n",
    "avg_total_times = list(map(lambda x: std(x), total_times_list))\n",
    "\n",
    "# Create list of dictionaries for these values\n",
    "\n",
    "avg_times = []\n",
    "\n",
    "for i in range(0,len(unique_neighborhoods)):\n",
    "    avg_times.append({\"neighborhood\": f\"{unique_neighborhoods[i]}\",\"avg_response_time\": f\"{avg_response_times[i]}\",\n",
    "                      \"avg_dispatch_time\": f\"{avg_dispatch_times[i]}\",\"avg_total_time\": f\"{avg_total_times[i]}\"})"
   ]
  },
  {
   "cell_type": "markdown",
   "id": "a0ee5d75",
   "metadata": {},
   "source": [
    "Timmmme to see our results (pun intended):"
   ]
  },
  {
   "cell_type": "code",
   "execution_count": 10,
   "id": "a12b9d17",
   "metadata": {},
   "outputs": [
    {
     "data": {
      "text/plain": [
       "[{'neighborhood': 'Eastern Market',\n",
       "  'avg_response_time': '0.009162303664921465',\n",
       "  'avg_dispatch_time': '0.02987012987012987',\n",
       "  'avg_total_time': '17.273291925465838'},\n",
       " {'neighborhood': 'Evergreen-Outer Drive',\n",
       "  'avg_response_time': '2.2088122605363987',\n",
       "  'avg_dispatch_time': '1.263551401869159',\n",
       "  'avg_total_time': '30.94'},\n",
       " {'neighborhood': 'Midtown',\n",
       "  'avg_response_time': '0.28268733850129196',\n",
       "  'avg_dispatch_time': '0.23001547189272822',\n",
       "  'avg_total_time': '33.647619047619045'},\n",
       " {'neighborhood': 'Bethune Community',\n",
       "  'avg_response_time': '2.4024604569420034',\n",
       "  'avg_dispatch_time': '1.842756183745583',\n",
       "  'avg_total_time': '39.87341772151899'},\n",
       " {'neighborhood': 'Dexter-Linwood',\n",
       "  'avg_response_time': '1.6517241379310346',\n",
       "  'avg_dispatch_time': '0.7003367003367004',\n",
       "  'avg_total_time': '30.333333333333332'},\n",
       " {'neighborhood': 'Rivertown',\n",
       "  'avg_response_time': '1.1272727272727272',\n",
       "  'avg_dispatch_time': '1.1818181818181819',\n",
       "  'avg_total_time': '22.666666666666668'},\n",
       " {'neighborhood': 'Ravendale',\n",
       "  'avg_response_time': '4.083333333333333',\n",
       "  'avg_dispatch_time': '0.0',\n",
       "  'avg_total_time': '45.6'},\n",
       " {'neighborhood': 'Mount Olivet',\n",
       "  'avg_response_time': '0.4319654427645788',\n",
       "  'avg_dispatch_time': '1.0042372881355932',\n",
       "  'avg_total_time': '34.733333333333334'},\n",
       " {'neighborhood': 'Oak Grove',\n",
       "  'avg_response_time': '0.4327354260089686',\n",
       "  'avg_dispatch_time': '0.3607103218645949',\n",
       "  'avg_total_time': '31.726315789473684'},\n",
       " {'neighborhood': 'Chadsey Condon',\n",
       "  'avg_response_time': '2.6548672566371683',\n",
       "  'avg_dispatch_time': '0.654434250764526',\n",
       "  'avg_total_time': '35.0'}]"
      ]
     },
     "execution_count": 10,
     "metadata": {},
     "output_type": "execute_result"
    }
   ],
   "source": [
    "avg_times[0:10]"
   ]
  },
  {
   "cell_type": "markdown",
   "id": "4bd6e73a",
   "metadata": {},
   "source": [
    "## Part 3: Create an Output JSON file\n",
    "\n",
    "Using the JSON module, format your list of dictionaries as a JSON and test the output with the JSON lint website. Write the tested JSON to a file."
   ]
  },
  {
   "cell_type": "code",
   "execution_count": 25,
   "id": "9ec46dca",
   "metadata": {},
   "outputs": [],
   "source": [
    "import json\n",
    "with open(\"detriot_911_cleaned_list.json\",\"wt+\") as file:\n",
    "    json.dump(cleaned_list, file)\n",
    "with open(\"detriot_911_neighborhoods_list.json\",\"wt+\") as file:\n",
    "    json.dump(neighborhoods_dict_list, file)\n",
    "with open(\"detriot_911_avg_times.json\",\"wt+\") as file:\n",
    "    json.dump(avg_times, file)"
   ]
  }
 ],
 "metadata": {
  "kernelspec": {
   "display_name": "Python 3 (ipykernel)",
   "language": "python",
   "name": "python3"
  },
  "language_info": {
   "codemirror_mode": {
    "name": "ipython",
    "version": 3
   },
   "file_extension": ".py",
   "mimetype": "text/x-python",
   "name": "python",
   "nbconvert_exporter": "python",
   "pygments_lexer": "ipython3",
   "version": "3.8.5"
  }
 },
 "nbformat": 4,
 "nbformat_minor": 5
}
